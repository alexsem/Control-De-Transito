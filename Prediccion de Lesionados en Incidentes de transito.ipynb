{
 "cells": [
  {
   "cell_type": "code",
   "execution_count": 1,
   "metadata": {},
   "outputs": [],
   "source": [
    "import pandas as pd\n",
    "import numpy as np\n",
    "import matplotlib.pyplot as plt"
   ]
  },
  {
   "cell_type": "code",
   "execution_count": 2,
   "metadata": {},
   "outputs": [],
   "source": [
    "df = pd.read_csv('.\\\\intervenciones-de-seguridad-vial.csv', index_col='fecha', parse_dates=True)"
   ]
  },
  {
   "cell_type": "code",
   "execution_count": 3,
   "metadata": {},
   "outputs": [
    {
     "data": {
      "text/html": [
       "<div>\n",
       "<style scoped>\n",
       "    .dataframe tbody tr th:only-of-type {\n",
       "        vertical-align: middle;\n",
       "    }\n",
       "\n",
       "    .dataframe tbody tr th {\n",
       "        vertical-align: top;\n",
       "    }\n",
       "\n",
       "    .dataframe thead th {\n",
       "        text-align: right;\n",
       "    }\n",
       "</style>\n",
       "<table border=\"1\" class=\"dataframe\">\n",
       "  <thead>\n",
       "    <tr style=\"text-align: right;\">\n",
       "      <th></th>\n",
       "      <th>periodo</th>\n",
       "      <th>hora</th>\n",
       "      <th>autopista</th>\n",
       "      <th>banda_y_o_ramal</th>\n",
       "      <th>pk</th>\n",
       "      <th>condiciones_meteorologicas</th>\n",
       "      <th>superficie_de_la_via</th>\n",
       "      <th>lesionados</th>\n",
       "      <th>fallecidos</th>\n",
       "      <th>tipo_de_siniestro</th>\n",
       "      <th>moto</th>\n",
       "      <th>liviano</th>\n",
       "      <th>bus</th>\n",
       "      <th>camion</th>\n",
       "    </tr>\n",
       "    <tr>\n",
       "      <th>fecha</th>\n",
       "      <th></th>\n",
       "      <th></th>\n",
       "      <th></th>\n",
       "      <th></th>\n",
       "      <th></th>\n",
       "      <th></th>\n",
       "      <th></th>\n",
       "      <th></th>\n",
       "      <th></th>\n",
       "      <th></th>\n",
       "      <th></th>\n",
       "      <th></th>\n",
       "      <th></th>\n",
       "      <th></th>\n",
       "    </tr>\n",
       "  </thead>\n",
       "  <tbody>\n",
       "    <tr>\n",
       "      <th>2014-01-01</th>\n",
       "      <td>201401</td>\n",
       "      <td>1</td>\n",
       "      <td>AU CAMPORA</td>\n",
       "      <td>ASCENDENTE</td>\n",
       "      <td>600</td>\n",
       "      <td>BUENO</td>\n",
       "      <td>SECA</td>\n",
       "      <td>1</td>\n",
       "      <td>0</td>\n",
       "      <td>COLISION CON OBSTACULO FIJO</td>\n",
       "      <td>0</td>\n",
       "      <td>1</td>\n",
       "      <td>0</td>\n",
       "      <td>0</td>\n",
       "    </tr>\n",
       "    <tr>\n",
       "      <th>2014-01-01</th>\n",
       "      <td>201401</td>\n",
       "      <td>3</td>\n",
       "      <td>AU DELLEPIANE</td>\n",
       "      <td>DESCENDENTE</td>\n",
       "      <td>600</td>\n",
       "      <td>BUENO</td>\n",
       "      <td>SECA</td>\n",
       "      <td>0</td>\n",
       "      <td>0</td>\n",
       "      <td>COLISION CON OBSTACULO FIJO</td>\n",
       "      <td>0</td>\n",
       "      <td>1</td>\n",
       "      <td>0</td>\n",
       "      <td>0</td>\n",
       "    </tr>\n",
       "    <tr>\n",
       "      <th>2014-01-01</th>\n",
       "      <td>201401</td>\n",
       "      <td>22</td>\n",
       "      <td>AU 25 DE MAYO</td>\n",
       "      <td>ASCENDENTE</td>\n",
       "      <td>5900</td>\n",
       "      <td>BUENO</td>\n",
       "      <td>SECA</td>\n",
       "      <td>8</td>\n",
       "      <td>0</td>\n",
       "      <td>COLISION CON DOS O MAS VEHICULOS</td>\n",
       "      <td>0</td>\n",
       "      <td>2</td>\n",
       "      <td>0</td>\n",
       "      <td>0</td>\n",
       "    </tr>\n",
       "    <tr>\n",
       "      <th>2014-03-01</th>\n",
       "      <td>201401</td>\n",
       "      <td>7</td>\n",
       "      <td>AU CAMPORA</td>\n",
       "      <td>DESCENDENTE</td>\n",
       "      <td>600</td>\n",
       "      <td>BUENO</td>\n",
       "      <td>SECA</td>\n",
       "      <td>0</td>\n",
       "      <td>0</td>\n",
       "      <td>OBSTACULO NO FIJO</td>\n",
       "      <td>0</td>\n",
       "      <td>0</td>\n",
       "      <td>0</td>\n",
       "      <td>1</td>\n",
       "    </tr>\n",
       "    <tr>\n",
       "      <th>2014-03-01</th>\n",
       "      <td>201401</td>\n",
       "      <td>21</td>\n",
       "      <td>AU PERTIO MORENO</td>\n",
       "      <td>DESCENDENTE</td>\n",
       "      <td>5400</td>\n",
       "      <td>BUENO</td>\n",
       "      <td>SECA</td>\n",
       "      <td>1</td>\n",
       "      <td>0</td>\n",
       "      <td>COLISION CON OBSTACULO FIJO</td>\n",
       "      <td>0</td>\n",
       "      <td>2</td>\n",
       "      <td>0</td>\n",
       "      <td>0</td>\n",
       "    </tr>\n",
       "  </tbody>\n",
       "</table>\n",
       "</div>"
      ],
      "text/plain": [
       "            periodo  hora         autopista banda_y_o_ramal    pk  \\\n",
       "fecha                                                               \n",
       "2014-01-01   201401     1        AU CAMPORA      ASCENDENTE   600   \n",
       "2014-01-01   201401     3     AU DELLEPIANE     DESCENDENTE   600   \n",
       "2014-01-01   201401    22     AU 25 DE MAYO      ASCENDENTE  5900   \n",
       "2014-03-01   201401     7        AU CAMPORA     DESCENDENTE   600   \n",
       "2014-03-01   201401    21  AU PERTIO MORENO     DESCENDENTE  5400   \n",
       "\n",
       "           condiciones_meteorologicas superficie_de_la_via  lesionados  \\\n",
       "fecha                                                                    \n",
       "2014-01-01                      BUENO                 SECA           1   \n",
       "2014-01-01                      BUENO                 SECA           0   \n",
       "2014-01-01                      BUENO                 SECA           8   \n",
       "2014-03-01                      BUENO                 SECA           0   \n",
       "2014-03-01                      BUENO                 SECA           1   \n",
       "\n",
       "            fallecidos                 tipo_de_siniestro  moto  liviano  bus  \\\n",
       "fecha                                                                          \n",
       "2014-01-01           0       COLISION CON OBSTACULO FIJO     0        1    0   \n",
       "2014-01-01           0       COLISION CON OBSTACULO FIJO     0        1    0   \n",
       "2014-01-01           0  COLISION CON DOS O MAS VEHICULOS     0        2    0   \n",
       "2014-03-01           0                 OBSTACULO NO FIJO     0        0    0   \n",
       "2014-03-01           0       COLISION CON OBSTACULO FIJO     0        2    0   \n",
       "\n",
       "            camion  \n",
       "fecha               \n",
       "2014-01-01       0  \n",
       "2014-01-01       0  \n",
       "2014-01-01       0  \n",
       "2014-03-01       1  \n",
       "2014-03-01       0  "
      ]
     },
     "execution_count": 3,
     "metadata": {},
     "output_type": "execute_result"
    }
   ],
   "source": [
    "df.head()"
   ]
  },
  {
   "cell_type": "code",
   "execution_count": 4,
   "metadata": {},
   "outputs": [
    {
     "data": {
      "text/html": [
       "<div>\n",
       "<style scoped>\n",
       "    .dataframe tbody tr th:only-of-type {\n",
       "        vertical-align: middle;\n",
       "    }\n",
       "\n",
       "    .dataframe tbody tr th {\n",
       "        vertical-align: top;\n",
       "    }\n",
       "\n",
       "    .dataframe thead th {\n",
       "        text-align: right;\n",
       "    }\n",
       "</style>\n",
       "<table border=\"1\" class=\"dataframe\">\n",
       "  <thead>\n",
       "    <tr style=\"text-align: right;\">\n",
       "      <th></th>\n",
       "      <th>periodo</th>\n",
       "      <th>hora</th>\n",
       "      <th>lesionados</th>\n",
       "      <th>fallecidos</th>\n",
       "      <th>moto</th>\n",
       "      <th>liviano</th>\n",
       "      <th>bus</th>\n",
       "      <th>camion</th>\n",
       "    </tr>\n",
       "  </thead>\n",
       "  <tbody>\n",
       "    <tr>\n",
       "      <th>count</th>\n",
       "      <td>6511.000000</td>\n",
       "      <td>6511.000000</td>\n",
       "      <td>6511.000000</td>\n",
       "      <td>6511.000000</td>\n",
       "      <td>6511.000000</td>\n",
       "      <td>6511.000000</td>\n",
       "      <td>6511.000000</td>\n",
       "      <td>6511.000000</td>\n",
       "    </tr>\n",
       "    <tr>\n",
       "      <th>mean</th>\n",
       "      <td>201646.679312</td>\n",
       "      <td>12.390109</td>\n",
       "      <td>0.604976</td>\n",
       "      <td>0.007986</td>\n",
       "      <td>0.384734</td>\n",
       "      <td>1.207495</td>\n",
       "      <td>0.037014</td>\n",
       "      <td>0.148364</td>\n",
       "    </tr>\n",
       "    <tr>\n",
       "      <th>std</th>\n",
       "      <td>172.480233</td>\n",
       "      <td>5.734461</td>\n",
       "      <td>0.984207</td>\n",
       "      <td>0.090726</td>\n",
       "      <td>0.532398</td>\n",
       "      <td>0.988931</td>\n",
       "      <td>0.199877</td>\n",
       "      <td>0.411561</td>\n",
       "    </tr>\n",
       "    <tr>\n",
       "      <th>min</th>\n",
       "      <td>201401.000000</td>\n",
       "      <td>0.000000</td>\n",
       "      <td>0.000000</td>\n",
       "      <td>0.000000</td>\n",
       "      <td>0.000000</td>\n",
       "      <td>0.000000</td>\n",
       "      <td>0.000000</td>\n",
       "      <td>0.000000</td>\n",
       "    </tr>\n",
       "    <tr>\n",
       "      <th>25%</th>\n",
       "      <td>201506.000000</td>\n",
       "      <td>8.000000</td>\n",
       "      <td>0.000000</td>\n",
       "      <td>0.000000</td>\n",
       "      <td>0.000000</td>\n",
       "      <td>1.000000</td>\n",
       "      <td>0.000000</td>\n",
       "      <td>0.000000</td>\n",
       "    </tr>\n",
       "    <tr>\n",
       "      <th>50%</th>\n",
       "      <td>201611.000000</td>\n",
       "      <td>13.000000</td>\n",
       "      <td>0.000000</td>\n",
       "      <td>0.000000</td>\n",
       "      <td>0.000000</td>\n",
       "      <td>1.000000</td>\n",
       "      <td>0.000000</td>\n",
       "      <td>0.000000</td>\n",
       "    </tr>\n",
       "    <tr>\n",
       "      <th>75%</th>\n",
       "      <td>201805.000000</td>\n",
       "      <td>17.000000</td>\n",
       "      <td>1.000000</td>\n",
       "      <td>0.000000</td>\n",
       "      <td>1.000000</td>\n",
       "      <td>2.000000</td>\n",
       "      <td>0.000000</td>\n",
       "      <td>0.000000</td>\n",
       "    </tr>\n",
       "    <tr>\n",
       "      <th>max</th>\n",
       "      <td>202002.000000</td>\n",
       "      <td>23.000000</td>\n",
       "      <td>21.000000</td>\n",
       "      <td>2.000000</td>\n",
       "      <td>3.000000</td>\n",
       "      <td>9.000000</td>\n",
       "      <td>2.000000</td>\n",
       "      <td>3.000000</td>\n",
       "    </tr>\n",
       "  </tbody>\n",
       "</table>\n",
       "</div>"
      ],
      "text/plain": [
       "             periodo         hora   lesionados   fallecidos         moto  \\\n",
       "count    6511.000000  6511.000000  6511.000000  6511.000000  6511.000000   \n",
       "mean   201646.679312    12.390109     0.604976     0.007986     0.384734   \n",
       "std       172.480233     5.734461     0.984207     0.090726     0.532398   \n",
       "min    201401.000000     0.000000     0.000000     0.000000     0.000000   \n",
       "25%    201506.000000     8.000000     0.000000     0.000000     0.000000   \n",
       "50%    201611.000000    13.000000     0.000000     0.000000     0.000000   \n",
       "75%    201805.000000    17.000000     1.000000     0.000000     1.000000   \n",
       "max    202002.000000    23.000000    21.000000     2.000000     3.000000   \n",
       "\n",
       "           liviano          bus       camion  \n",
       "count  6511.000000  6511.000000  6511.000000  \n",
       "mean      1.207495     0.037014     0.148364  \n",
       "std       0.988931     0.199877     0.411561  \n",
       "min       0.000000     0.000000     0.000000  \n",
       "25%       1.000000     0.000000     0.000000  \n",
       "50%       1.000000     0.000000     0.000000  \n",
       "75%       2.000000     0.000000     0.000000  \n",
       "max       9.000000     2.000000     3.000000  "
      ]
     },
     "execution_count": 4,
     "metadata": {},
     "output_type": "execute_result"
    }
   ],
   "source": [
    "df.describe()"
   ]
  },
  {
   "cell_type": "code",
   "execution_count": 5,
   "metadata": {},
   "outputs": [],
   "source": [
    "%matplotlib inline"
   ]
  },
  {
   "cell_type": "code",
   "execution_count": 6,
   "metadata": {},
   "outputs": [
    {
     "data": {
      "text/plain": [
       "<matplotlib.axes._subplots.AxesSubplot at 0x1cf4cdfe208>"
      ]
     },
     "execution_count": 6,
     "metadata": {},
     "output_type": "execute_result"
    },
    {
     "data": {
      "image/png": "[encoded data removed]",
      "text/plain": [
       "<Figure size 1296x720 with 1 Axes>"
      ]
     },
     "metadata": {
      "needs_background": "light"
     },
     "output_type": "display_data"
    }
   ],
   "source": [
    "df['lesionados'].resample('M').sum().plot(figsize=(18,10))\n",
    "df['fallecidos'].resample('M').sum().plot(figsize=(18,10), color='red')"
   ]
  },
  {
   "cell_type": "code",
   "execution_count": 7,
   "metadata": {},
   "outputs": [],
   "source": [
    "df_lesionados = df[df['lesionados']>0]"
   ]
  },
  {
   "cell_type": "code",
   "execution_count": 8,
   "metadata": {},
   "outputs": [],
   "source": [
    "lesionados_por_hora = df_lesionados.groupby('hora').sum()['lesionados']"
   ]
  },
  {
   "cell_type": "code",
   "execution_count": 9,
   "metadata": {},
   "outputs": [
    {
     "data": {
      "text/plain": [
       "<matplotlib.axes._subplots.AxesSubplot at 0x1cf4d7a59c8>"
      ]
     },
     "execution_count": 9,
     "metadata": {},
     "output_type": "execute_result"
    },
    {
     "data": {
      "image/png": "[encoded data removed]",
      "text/plain": [
       "<Figure size 864x360 with 1 Axes>"
      ]
     },
     "metadata": {
      "needs_background": "light"
     },
     "output_type": "display_data"
    }
   ],
   "source": [
    "titulo_lesionados_por_hora = \"Cantidad Media de lesionados segun la hora del dia\"\n",
    "lesionados_por_hora.plot(figsize=(12,5), title=titulo_lesionados_por_hora)"
   ]
  },
  {
   "cell_type": "code",
   "execution_count": 10,
   "metadata": {},
   "outputs": [
    {
     "data": {
      "text/plain": [
       "<matplotlib.axes._subplots.AxesSubplot at 0x1cf4d7ffdc8>"
      ]
     },
     "execution_count": 10,
     "metadata": {},
     "output_type": "execute_result"
    },
    {
     "data": {
      "image/png": "[encoded data removed]",
      "text/plain": [
       "<Figure size 432x288 with 1 Axes>"
      ]
     },
     "metadata": {
      "needs_background": "light"
     },
     "output_type": "display_data"
    }
   ],
   "source": [
    "condiciones_meteorologicas_pivot = df.pivot_table(index='autopista', values=['lesionados', 'fallecidos'])\n",
    "condiciones_meteorologicas_pivot.plot.bar()"
   ]
  },
  {
   "cell_type": "code",
   "execution_count": 11,
   "metadata": {},
   "outputs": [
    {
     "data": {
      "text/plain": [
       "<matplotlib.axes._subplots.AxesSubplot at 0x1cf4d92f5c8>"
      ]
     },
     "execution_count": 11,
     "metadata": {},
     "output_type": "execute_result"
    },
    {
     "data": {
      "image/png": "[encoded data removed]",
      "text/plain": [
       "<Figure size 432x288 with 1 Axes>"
      ]
     },
     "metadata": {
      "needs_background": "light"
     },
     "output_type": "display_data"
    }
   ],
   "source": [
    "condiciones_meteorologicas_pivot = df.pivot_table(index='condiciones_meteorologicas', values=['lesionados', 'fallecidos'])\n",
    "condiciones_meteorologicas_pivot.plot.bar()"
   ]
  },
  {
   "cell_type": "code",
   "execution_count": 12,
   "metadata": {},
   "outputs": [
    {
     "data": {
      "text/plain": [
       "<matplotlib.axes._subplots.AxesSubplot at 0x1cf4d9b81c8>"
      ]
     },
     "execution_count": 12,
     "metadata": {},
     "output_type": "execute_result"
    },
    {
     "data": {
      "image/png": "[encoded data removed]",
      "text/plain": [
       "<Figure size 432x288 with 1 Axes>"
      ]
     },
     "metadata": {
      "needs_background": "light"
     },
     "output_type": "display_data"
    }
   ],
   "source": [
    "superficie_de_la_via_pivot = df.pivot_table(index='superficie_de_la_via', values=['lesionados', 'fallecidos'])\n",
    "superficie_de_la_via_pivot.plot.bar()"
   ]
  },
  {
   "cell_type": "code",
   "execution_count": 13,
   "metadata": {
    "scrolled": true
   },
   "outputs": [
    {
     "data": {
      "text/html": [
       "<div>\n",
       "<style scoped>\n",
       "    .dataframe tbody tr th:only-of-type {\n",
       "        vertical-align: middle;\n",
       "    }\n",
       "\n",
       "    .dataframe tbody tr th {\n",
       "        vertical-align: top;\n",
       "    }\n",
       "\n",
       "    .dataframe thead th {\n",
       "        text-align: right;\n",
       "    }\n",
       "</style>\n",
       "<table border=\"1\" class=\"dataframe\">\n",
       "  <thead>\n",
       "    <tr style=\"text-align: right;\">\n",
       "      <th></th>\n",
       "      <th>periodo</th>\n",
       "      <th>hora</th>\n",
       "      <th>autopista</th>\n",
       "      <th>banda_y_o_ramal</th>\n",
       "      <th>pk</th>\n",
       "      <th>condiciones_meteorologicas</th>\n",
       "      <th>superficie_de_la_via</th>\n",
       "      <th>lesionados</th>\n",
       "      <th>fallecidos</th>\n",
       "      <th>tipo_de_siniestro</th>\n",
       "      <th>moto</th>\n",
       "      <th>liviano</th>\n",
       "      <th>bus</th>\n",
       "      <th>camion</th>\n",
       "    </tr>\n",
       "    <tr>\n",
       "      <th>fecha</th>\n",
       "      <th></th>\n",
       "      <th></th>\n",
       "      <th></th>\n",
       "      <th></th>\n",
       "      <th></th>\n",
       "      <th></th>\n",
       "      <th></th>\n",
       "      <th></th>\n",
       "      <th></th>\n",
       "      <th></th>\n",
       "      <th></th>\n",
       "      <th></th>\n",
       "      <th></th>\n",
       "      <th></th>\n",
       "    </tr>\n",
       "  </thead>\n",
       "  <tbody>\n",
       "    <tr>\n",
       "      <th>2014-01-01</th>\n",
       "      <td>201401</td>\n",
       "      <td>1</td>\n",
       "      <td>AU CAMPORA</td>\n",
       "      <td>ASCENDENTE</td>\n",
       "      <td>600</td>\n",
       "      <td>BUENO</td>\n",
       "      <td>SECA</td>\n",
       "      <td>1</td>\n",
       "      <td>0</td>\n",
       "      <td>COLISION CON OBSTACULO FIJO</td>\n",
       "      <td>0</td>\n",
       "      <td>1</td>\n",
       "      <td>0</td>\n",
       "      <td>0</td>\n",
       "    </tr>\n",
       "    <tr>\n",
       "      <th>2014-01-01</th>\n",
       "      <td>201401</td>\n",
       "      <td>3</td>\n",
       "      <td>AU DELLEPIANE</td>\n",
       "      <td>DESCENDENTE</td>\n",
       "      <td>600</td>\n",
       "      <td>BUENO</td>\n",
       "      <td>SECA</td>\n",
       "      <td>0</td>\n",
       "      <td>0</td>\n",
       "      <td>COLISION CON OBSTACULO FIJO</td>\n",
       "      <td>0</td>\n",
       "      <td>1</td>\n",
       "      <td>0</td>\n",
       "      <td>0</td>\n",
       "    </tr>\n",
       "    <tr>\n",
       "      <th>2014-01-01</th>\n",
       "      <td>201401</td>\n",
       "      <td>22</td>\n",
       "      <td>AU 25 DE MAYO</td>\n",
       "      <td>ASCENDENTE</td>\n",
       "      <td>5900</td>\n",
       "      <td>BUENO</td>\n",
       "      <td>SECA</td>\n",
       "      <td>8</td>\n",
       "      <td>0</td>\n",
       "      <td>COLISION CON DOS O MAS VEHICULOS</td>\n",
       "      <td>0</td>\n",
       "      <td>2</td>\n",
       "      <td>0</td>\n",
       "      <td>0</td>\n",
       "    </tr>\n",
       "    <tr>\n",
       "      <th>2014-03-01</th>\n",
       "      <td>201401</td>\n",
       "      <td>7</td>\n",
       "      <td>AU CAMPORA</td>\n",
       "      <td>DESCENDENTE</td>\n",
       "      <td>600</td>\n",
       "      <td>BUENO</td>\n",
       "      <td>SECA</td>\n",
       "      <td>0</td>\n",
       "      <td>0</td>\n",
       "      <td>OBSTACULO NO FIJO</td>\n",
       "      <td>0</td>\n",
       "      <td>0</td>\n",
       "      <td>0</td>\n",
       "      <td>1</td>\n",
       "    </tr>\n",
       "    <tr>\n",
       "      <th>2014-03-01</th>\n",
       "      <td>201401</td>\n",
       "      <td>21</td>\n",
       "      <td>AU PERTIO MORENO</td>\n",
       "      <td>DESCENDENTE</td>\n",
       "      <td>5400</td>\n",
       "      <td>BUENO</td>\n",
       "      <td>SECA</td>\n",
       "      <td>1</td>\n",
       "      <td>0</td>\n",
       "      <td>COLISION CON OBSTACULO FIJO</td>\n",
       "      <td>0</td>\n",
       "      <td>2</td>\n",
       "      <td>0</td>\n",
       "      <td>0</td>\n",
       "    </tr>\n",
       "  </tbody>\n",
       "</table>\n",
       "</div>"
      ],
      "text/plain": [
       "            periodo  hora         autopista banda_y_o_ramal    pk  \\\n",
       "fecha                                                               \n",
       "2014-01-01   201401     1        AU CAMPORA      ASCENDENTE   600   \n",
       "2014-01-01   201401     3     AU DELLEPIANE     DESCENDENTE   600   \n",
       "2014-01-01   201401    22     AU 25 DE MAYO      ASCENDENTE  5900   \n",
       "2014-03-01   201401     7        AU CAMPORA     DESCENDENTE   600   \n",
       "2014-03-01   201401    21  AU PERTIO MORENO     DESCENDENTE  5400   \n",
       "\n",
       "           condiciones_meteorologicas superficie_de_la_via  lesionados  \\\n",
       "fecha                                                                    \n",
       "2014-01-01                      BUENO                 SECA           1   \n",
       "2014-01-01                      BUENO                 SECA           0   \n",
       "2014-01-01                      BUENO                 SECA           8   \n",
       "2014-03-01                      BUENO                 SECA           0   \n",
       "2014-03-01                      BUENO                 SECA           1   \n",
       "\n",
       "            fallecidos                 tipo_de_siniestro  moto  liviano  bus  \\\n",
       "fecha                                                                          \n",
       "2014-01-01           0       COLISION CON OBSTACULO FIJO     0        1    0   \n",
       "2014-01-01           0       COLISION CON OBSTACULO FIJO     0        1    0   \n",
       "2014-01-01           0  COLISION CON DOS O MAS VEHICULOS     0        2    0   \n",
       "2014-03-01           0                 OBSTACULO NO FIJO     0        0    0   \n",
       "2014-03-01           0       COLISION CON OBSTACULO FIJO     0        2    0   \n",
       "\n",
       "            camion  \n",
       "fecha               \n",
       "2014-01-01       0  \n",
       "2014-01-01       0  \n",
       "2014-01-01       0  \n",
       "2014-03-01       1  \n",
       "2014-03-01       0  "
      ]
     },
     "execution_count": 13,
     "metadata": {},
     "output_type": "execute_result"
    }
   ],
   "source": [
    "df.head()"
   ]
  },
  {
   "cell_type": "code",
   "execution_count": 14,
   "metadata": {},
   "outputs": [],
   "source": [
    "corr_matrix = df.corr().abs()\n",
    "\n",
    "# Create a True/False mask and apply it\n",
    "mask = np.triu(np.ones_like(corr_matrix, dtype=bool))\n",
    "tri_df = corr_matrix.mask(mask)\n",
    "\n",
    "# List column names of highly correlated features (r > 0.95)\n",
    "to_drop = [c for c in tri_df.columns if any(tri_df[c] > 0.95)]"
   ]
  },
  {
   "cell_type": "code",
   "execution_count": 15,
   "metadata": {},
   "outputs": [
    {
     "data": {
      "text/plain": [
       "[]"
      ]
     },
     "execution_count": 15,
     "metadata": {},
     "output_type": "execute_result"
    }
   ],
   "source": [
    "to_drop"
   ]
  },
  {
   "cell_type": "code",
   "execution_count": 16,
   "metadata": {},
   "outputs": [],
   "source": [
    "from sklearn.preprocessing import LabelEncoder\n",
    "\n",
    "le = LabelEncoder()\n",
    "df['n_autopista'] = le.fit_transform(df['autopista'])\n",
    "df['n_condiciones_meteorologicas'] = le.fit_transform(df['condiciones_meteorologicas'])\n",
    "df['n_superficie_de_la_via'] = le.fit_transform(df['superficie_de_la_via'])\n",
    "df['n_tipo_de_siniestro'] = le.fit_transform(df['tipo_de_siniestro'])"
   ]
  },
  {
   "cell_type": "code",
   "execution_count": 17,
   "metadata": {},
   "outputs": [],
   "source": [
    "from sklearn.model_selection import train_test_split\n",
    "\n",
    "train, test = train_test_split(df, test_size=0.2)"
   ]
  },
  {
   "cell_type": "code",
   "execution_count": 18,
   "metadata": {},
   "outputs": [],
   "source": [
    "train_data = train[['hora', 'n_autopista', 'n_condiciones_meteorologicas', 'n_superficie_de_la_via', 'n_tipo_de_siniestro', 'moto', 'liviano', 'bus','camion']]\n",
    "train_target_lesionados = pd.to_numeric(train['lesionados']).apply(lambda x: 1 if x > 0 else 0)\n",
    "\n",
    "test_data = test[['hora', 'n_autopista', 'n_condiciones_meteorologicas', 'n_superficie_de_la_via', 'n_tipo_de_siniestro', 'moto', 'liviano', 'bus','camion']]\n",
    "test_target_lesionados = pd.to_numeric(test['lesionados']).apply(lambda x: 1 if x > 0 else 0)\n",
    "\n",
    "data = df[['hora', 'n_autopista', 'n_condiciones_meteorologicas', 'n_superficie_de_la_via', 'n_tipo_de_siniestro', 'moto', 'liviano', 'bus','camion']]\n",
    "target_lesionados = pd.to_numeric(df['lesionados']).apply(lambda x: 1 if x > 0 else 0)"
   ]
  },
  {
   "cell_type": "code",
   "execution_count": 19,
   "metadata": {},
   "outputs": [
    {
     "data": {
      "text/plain": [
       "(5208, 9)"
      ]
     },
     "execution_count": 19,
     "metadata": {},
     "output_type": "execute_result"
    }
   ],
   "source": [
    "train_data.shape"
   ]
  },
  {
   "cell_type": "code",
   "execution_count": 20,
   "metadata": {},
   "outputs": [
    {
     "data": {
      "text/plain": [
       "(5208,)"
      ]
     },
     "execution_count": 20,
     "metadata": {},
     "output_type": "execute_result"
    }
   ],
   "source": [
    "train_target_lesionados.shape"
   ]
  },
  {
   "cell_type": "code",
   "execution_count": 21,
   "metadata": {},
   "outputs": [],
   "source": [
    "from sklearn.tree import DecisionTreeClassifier"
   ]
  },
  {
   "cell_type": "code",
   "execution_count": 22,
   "metadata": {},
   "outputs": [],
   "source": [
    "tree_clf = DecisionTreeClassifier(max_depth=3)"
   ]
  },
  {
   "cell_type": "code",
   "execution_count": 23,
   "metadata": {},
   "outputs": [
    {
     "data": {
      "text/plain": [
       "DecisionTreeClassifier(ccp_alpha=0.0, class_weight=None, criterion='gini',\n",
       "                       max_depth=3, max_features=None, max_leaf_nodes=None,\n",
       "                       min_impurity_decrease=0.0, min_impurity_split=None,\n",
       "                       min_samples_leaf=1, min_samples_split=2,\n",
       "                       min_weight_fraction_leaf=0.0, presort='deprecated',\n",
       "                       random_state=None, splitter='best')"
      ]
     },
     "execution_count": 23,
     "metadata": {},
     "output_type": "execute_result"
    }
   ],
   "source": [
    "tree_clf.fit(train_data, train_target_lesionados)"
   ]
  },
  {
   "cell_type": "code",
   "execution_count": 24,
   "metadata": {
    "slideshow": {
     "slide_type": "slide"
    }
   },
   "outputs": [
    {
     "data": {
      "image/svg+xml": [
       "<?xml version=\"1.0\" encoding=\"UTF-8\" standalone=\"no\"?>\r\n",
       "<!DOCTYPE svg PUBLIC \"-//W3C//DTD SVG 1.1//EN\"\r\n",
       " \"http://www.w3.org/Graphics/SVG/1.1/DTD/svg11.dtd\">\r\n",
       "<!-- Generated by graphviz version 2.38.0 (20140413.2041)\r\n",
       " -->\r\n",
       "<!-- Title: Tree Pages: 1 -->\r\n",
       "<svg width=\"1214pt\" height=\"433pt\"\r\n",
       " viewBox=\"0.00 0.00 1214.00 433.00\" xmlns=\"http://www.w3.org/2000/svg\" xmlns:xlink=\"http://www.w3.org/1999/xlink\">\r\n",
       "<g id=\"graph0\" class=\"graph\" transform=\"scale(1 1) rotate(0) translate(4 429)\">\r\n",
       "<title>Tree</title>\r\n",
       "<polygon fill=\"white\" stroke=\"none\" points=\"-4,4 -4,-429 1210,-429 1210,4 -4,4\"/>\r\n",
       "<!-- 0 -->\r\n",
       "<g id=\"node1\" class=\"node\"><title>0</title>\r\n",
       "<polygon fill=\"#f9e0ce\" stroke=\"black\" points=\"691,-425 550,-425 550,-342 691,-342 691,-425\"/>\r\n",
       "<text text-anchor=\"middle\" x=\"620.5\" y=\"-409.8\" font-family=\"Times New Roman,serif\" font-size=\"14.00\">moto &lt;= 0.5</text>\r\n",
       "<text text-anchor=\"middle\" x=\"620.5\" y=\"-394.8\" font-family=\"Times New Roman,serif\" font-size=\"14.00\">gini = 0.49</text>\r\n",
       "<text text-anchor=\"middle\" x=\"620.5\" y=\"-379.8\" font-family=\"Times New Roman,serif\" font-size=\"14.00\">samples = 5208</text>\r\n",
       "<text text-anchor=\"middle\" x=\"620.5\" y=\"-364.8\" font-family=\"Times New Roman,serif\" font-size=\"14.00\">value = [2974, 2234]</text>\r\n",
       "<text text-anchor=\"middle\" x=\"620.5\" y=\"-349.8\" font-family=\"Times New Roman,serif\" font-size=\"14.00\">class = Sin lesionados</text>\r\n",
       "</g>\r\n",
       "<!-- 1 -->\r\n",
       "<g id=\"node2\" class=\"node\"><title>1</title>\r\n",
       "<polygon fill=\"#edaa7a\" stroke=\"black\" points=\"536,-306 395,-306 395,-223 536,-223 536,-306\"/>\r\n",
       "<text text-anchor=\"middle\" x=\"465.5\" y=\"-290.8\" font-family=\"Times New Roman,serif\" font-size=\"14.00\">liviano &lt;= 1.5</text>\r\n",
       "<text text-anchor=\"middle\" x=\"465.5\" y=\"-275.8\" font-family=\"Times New Roman,serif\" font-size=\"14.00\">gini = 0.371</text>\r\n",
       "<text text-anchor=\"middle\" x=\"465.5\" y=\"-260.8\" font-family=\"Times New Roman,serif\" font-size=\"14.00\">samples = 3323</text>\r\n",
       "<text text-anchor=\"middle\" x=\"465.5\" y=\"-245.8\" font-family=\"Times New Roman,serif\" font-size=\"14.00\">value = [2505, 818]</text>\r\n",
       "<text text-anchor=\"middle\" x=\"465.5\" y=\"-230.8\" font-family=\"Times New Roman,serif\" font-size=\"14.00\">class = Sin lesionados</text>\r\n",
       "</g>\r\n",
       "<!-- 0&#45;&gt;1 -->\r\n",
       "<g id=\"edge1\" class=\"edge\"><title>0&#45;&gt;1</title>\r\n",
       "<path fill=\"none\" stroke=\"black\" d=\"M566.724,-341.907C553.98,-332.288 540.289,-321.953 527.222,-312.09\"/>\r\n",
       "<polygon fill=\"black\" stroke=\"black\" points=\"529.272,-309.252 519.181,-306.021 525.054,-314.839 529.272,-309.252\"/>\r\n",
       "<text text-anchor=\"middle\" x=\"522.64\" y=\"-327.08\" font-family=\"Times New Roman,serif\" font-size=\"14.00\">True</text>\r\n",
       "</g>\r\n",
       "<!-- 8 -->\r\n",
       "<g id=\"node9\" class=\"node\"><title>8</title>\r\n",
       "<polygon fill=\"#7bbdee\" stroke=\"black\" points=\"832,-306 707,-306 707,-223 832,-223 832,-306\"/>\r\n",
       "<text text-anchor=\"middle\" x=\"769.5\" y=\"-290.8\" font-family=\"Times New Roman,serif\" font-size=\"14.00\">autopista &lt;= 3.5</text>\r\n",
       "<text text-anchor=\"middle\" x=\"769.5\" y=\"-275.8\" font-family=\"Times New Roman,serif\" font-size=\"14.00\">gini = 0.374</text>\r\n",
       "<text text-anchor=\"middle\" x=\"769.5\" y=\"-260.8\" font-family=\"Times New Roman,serif\" font-size=\"14.00\">samples = 1885</text>\r\n",
       "<text text-anchor=\"middle\" x=\"769.5\" y=\"-245.8\" font-family=\"Times New Roman,serif\" font-size=\"14.00\">value = [469, 1416]</text>\r\n",
       "<text text-anchor=\"middle\" x=\"769.5\" y=\"-230.8\" font-family=\"Times New Roman,serif\" font-size=\"14.00\">class = Lesionados</text>\r\n",
       "</g>\r\n",
       "<!-- 0&#45;&gt;8 -->\r\n",
       "<g id=\"edge8\" class=\"edge\"><title>0&#45;&gt;8</title>\r\n",
       "<path fill=\"none\" stroke=\"black\" d=\"M672.195,-341.907C684.33,-332.379 697.358,-322.148 709.811,-312.37\"/>\r\n",
       "<polygon fill=\"black\" stroke=\"black\" points=\"712.193,-314.949 717.897,-306.021 707.87,-309.444 712.193,-314.949\"/>\r\n",
       "<text text-anchor=\"middle\" x=\"714.911\" y=\"-327.142\" font-family=\"Times New Roman,serif\" font-size=\"14.00\">False</text>\r\n",
       "</g>\r\n",
       "<!-- 2 -->\r\n",
       "<g id=\"node3\" class=\"node\"><title>2</title>\r\n",
       "<polygon fill=\"#eba06a\" stroke=\"black\" points=\"300,-187 159,-187 159,-104 300,-104 300,-187\"/>\r\n",
       "<text text-anchor=\"middle\" x=\"229.5\" y=\"-171.8\" font-family=\"Times New Roman,serif\" font-size=\"14.00\">bus &lt;= 0.5</text>\r\n",
       "<text text-anchor=\"middle\" x=\"229.5\" y=\"-156.8\" font-family=\"Times New Roman,serif\" font-size=\"14.00\">gini = 0.317</text>\r\n",
       "<text text-anchor=\"middle\" x=\"229.5\" y=\"-141.8\" font-family=\"Times New Roman,serif\" font-size=\"14.00\">samples = 1856</text>\r\n",
       "<text text-anchor=\"middle\" x=\"229.5\" y=\"-126.8\" font-family=\"Times New Roman,serif\" font-size=\"14.00\">value = [1490, 366]</text>\r\n",
       "<text text-anchor=\"middle\" x=\"229.5\" y=\"-111.8\" font-family=\"Times New Roman,serif\" font-size=\"14.00\">class = Sin lesionados</text>\r\n",
       "</g>\r\n",
       "<!-- 1&#45;&gt;2 -->\r\n",
       "<g id=\"edge2\" class=\"edge\"><title>1&#45;&gt;2</title>\r\n",
       "<path fill=\"none\" stroke=\"black\" d=\"M394.692,-228.396C367.856,-215.092 337.121,-199.854 309.497,-186.159\"/>\r\n",
       "<polygon fill=\"black\" stroke=\"black\" points=\"310.772,-182.885 300.258,-181.579 307.663,-189.157 310.772,-182.885\"/>\r\n",
       "</g>\r\n",
       "<!-- 5 -->\r\n",
       "<g id=\"node6\" class=\"node\"><title>5</title>\r\n",
       "<polygon fill=\"#f1b991\" stroke=\"black\" points=\"536,-187 395,-187 395,-104 536,-104 536,-187\"/>\r\n",
       "<text text-anchor=\"middle\" x=\"465.5\" y=\"-171.8\" font-family=\"Times New Roman,serif\" font-size=\"14.00\">hora &lt;= 6.5</text>\r\n",
       "<text text-anchor=\"middle\" x=\"465.5\" y=\"-156.8\" font-family=\"Times New Roman,serif\" font-size=\"14.00\">gini = 0.426</text>\r\n",
       "<text text-anchor=\"middle\" x=\"465.5\" y=\"-141.8\" font-family=\"Times New Roman,serif\" font-size=\"14.00\">samples = 1467</text>\r\n",
       "<text text-anchor=\"middle\" x=\"465.5\" y=\"-126.8\" font-family=\"Times New Roman,serif\" font-size=\"14.00\">value = [1015, 452]</text>\r\n",
       "<text text-anchor=\"middle\" x=\"465.5\" y=\"-111.8\" font-family=\"Times New Roman,serif\" font-size=\"14.00\">class = Sin lesionados</text>\r\n",
       "</g>\r\n",
       "<!-- 1&#45;&gt;5 -->\r\n",
       "<g id=\"edge5\" class=\"edge\"><title>1&#45;&gt;5</title>\r\n",
       "<path fill=\"none\" stroke=\"black\" d=\"M465.5,-222.907C465.5,-214.649 465.5,-205.864 465.5,-197.302\"/>\r\n",
       "<polygon fill=\"black\" stroke=\"black\" points=\"469,-197.021 465.5,-187.021 462,-197.021 469,-197.021\"/>\r\n",
       "</g>\r\n",
       "<!-- 3 -->\r\n",
       "<g id=\"node4\" class=\"node\"><title>3</title>\r\n",
       "<polygon fill=\"#eb9e66\" stroke=\"black\" points=\"141,-68 0,-68 0,-0 141,-0 141,-68\"/>\r\n",
       "<text text-anchor=\"middle\" x=\"70.5\" y=\"-52.8\" font-family=\"Times New Roman,serif\" font-size=\"14.00\">gini = 0.302</text>\r\n",
       "<text text-anchor=\"middle\" x=\"70.5\" y=\"-37.8\" font-family=\"Times New Roman,serif\" font-size=\"14.00\">samples = 1740</text>\r\n",
       "<text text-anchor=\"middle\" x=\"70.5\" y=\"-22.8\" font-family=\"Times New Roman,serif\" font-size=\"14.00\">value = [1418, 322]</text>\r\n",
       "<text text-anchor=\"middle\" x=\"70.5\" y=\"-7.8\" font-family=\"Times New Roman,serif\" font-size=\"14.00\">class = Sin lesionados</text>\r\n",
       "</g>\r\n",
       "<!-- 2&#45;&gt;3 -->\r\n",
       "<g id=\"edge3\" class=\"edge\"><title>2&#45;&gt;3</title>\r\n",
       "<path fill=\"none\" stroke=\"black\" d=\"M170.294,-103.726C156.183,-94.0078 141.157,-83.6597 127.162,-74.0222\"/>\r\n",
       "<polygon fill=\"black\" stroke=\"black\" points=\"128.821,-70.9146 118.6,-68.1252 124.85,-76.6797 128.821,-70.9146\"/>\r\n",
       "</g>\r\n",
       "<!-- 4 -->\r\n",
       "<g id=\"node5\" class=\"node\"><title>4</title>\r\n",
       "<polygon fill=\"#f5ceb2\" stroke=\"black\" points=\"300,-68 159,-68 159,-0 300,-0 300,-68\"/>\r\n",
       "<text text-anchor=\"middle\" x=\"229.5\" y=\"-52.8\" font-family=\"Times New Roman,serif\" font-size=\"14.00\">gini = 0.471</text>\r\n",
       "<text text-anchor=\"middle\" x=\"229.5\" y=\"-37.8\" font-family=\"Times New Roman,serif\" font-size=\"14.00\">samples = 116</text>\r\n",
       "<text text-anchor=\"middle\" x=\"229.5\" y=\"-22.8\" font-family=\"Times New Roman,serif\" font-size=\"14.00\">value = [72, 44]</text>\r\n",
       "<text text-anchor=\"middle\" x=\"229.5\" y=\"-7.8\" font-family=\"Times New Roman,serif\" font-size=\"14.00\">class = Sin lesionados</text>\r\n",
       "</g>\r\n",
       "<!-- 2&#45;&gt;4 -->\r\n",
       "<g id=\"edge4\" class=\"edge\"><title>2&#45;&gt;4</title>\r\n",
       "<path fill=\"none\" stroke=\"black\" d=\"M229.5,-103.726C229.5,-95.5175 229.5,-86.8595 229.5,-78.56\"/>\r\n",
       "<polygon fill=\"black\" stroke=\"black\" points=\"233,-78.2996 229.5,-68.2996 226,-78.2996 233,-78.2996\"/>\r\n",
       "</g>\r\n",
       "<!-- 6 -->\r\n",
       "<g id=\"node7\" class=\"node\"><title>6</title>\r\n",
       "<polygon fill=\"#fbebdf\" stroke=\"black\" points=\"459,-68 318,-68 318,-0 459,-0 459,-68\"/>\r\n",
       "<text text-anchor=\"middle\" x=\"388.5\" y=\"-52.8\" font-family=\"Times New Roman,serif\" font-size=\"14.00\">gini = 0.496</text>\r\n",
       "<text text-anchor=\"middle\" x=\"388.5\" y=\"-37.8\" font-family=\"Times New Roman,serif\" font-size=\"14.00\">samples = 184</text>\r\n",
       "<text text-anchor=\"middle\" x=\"388.5\" y=\"-22.8\" font-family=\"Times New Roman,serif\" font-size=\"14.00\">value = [100, 84]</text>\r\n",
       "<text text-anchor=\"middle\" x=\"388.5\" y=\"-7.8\" font-family=\"Times New Roman,serif\" font-size=\"14.00\">class = Sin lesionados</text>\r\n",
       "</g>\r\n",
       "<!-- 5&#45;&gt;6 -->\r\n",
       "<g id=\"edge6\" class=\"edge\"><title>5&#45;&gt;6</title>\r\n",
       "<path fill=\"none\" stroke=\"black\" d=\"M436.828,-103.726C430.607,-94.879 424.018,-85.51 417.774,-76.6303\"/>\r\n",
       "<polygon fill=\"black\" stroke=\"black\" points=\"420.531,-74.4664 411.916,-68.2996 414.805,-78.4929 420.531,-74.4664\"/>\r\n",
       "</g>\r\n",
       "<!-- 7 -->\r\n",
       "<g id=\"node8\" class=\"node\"><title>7</title>\r\n",
       "<polygon fill=\"#efb489\" stroke=\"black\" points=\"618,-68 477,-68 477,-0 618,-0 618,-68\"/>\r\n",
       "<text text-anchor=\"middle\" x=\"547.5\" y=\"-52.8\" font-family=\"Times New Roman,serif\" font-size=\"14.00\">gini = 0.409</text>\r\n",
       "<text text-anchor=\"middle\" x=\"547.5\" y=\"-37.8\" font-family=\"Times New Roman,serif\" font-size=\"14.00\">samples = 1283</text>\r\n",
       "<text text-anchor=\"middle\" x=\"547.5\" y=\"-22.8\" font-family=\"Times New Roman,serif\" font-size=\"14.00\">value = [915, 368]</text>\r\n",
       "<text text-anchor=\"middle\" x=\"547.5\" y=\"-7.8\" font-family=\"Times New Roman,serif\" font-size=\"14.00\">class = Sin lesionados</text>\r\n",
       "</g>\r\n",
       "<!-- 5&#45;&gt;7 -->\r\n",
       "<g id=\"edge7\" class=\"edge\"><title>5&#45;&gt;7</title>\r\n",
       "<path fill=\"none\" stroke=\"black\" d=\"M496.034,-103.726C502.727,-94.7878 509.82,-85.3168 516.53,-76.3558\"/>\r\n",
       "<polygon fill=\"black\" stroke=\"black\" points=\"519.371,-78.402 522.563,-68.2996 513.768,-74.206 519.371,-78.402\"/>\r\n",
       "</g>\r\n",
       "<!-- 9 -->\r\n",
       "<g id=\"node10\" class=\"node\"><title>9</title>\r\n",
       "<polygon fill=\"#6fb8ec\" stroke=\"black\" points=\"832,-187 707,-187 707,-104 832,-104 832,-187\"/>\r\n",
       "<text text-anchor=\"middle\" x=\"769.5\" y=\"-171.8\" font-family=\"Times New Roman,serif\" font-size=\"14.00\">hora &lt;= 8.5</text>\r\n",
       "<text text-anchor=\"middle\" x=\"769.5\" y=\"-156.8\" font-family=\"Times New Roman,serif\" font-size=\"14.00\">gini = 0.337</text>\r\n",
       "<text text-anchor=\"middle\" x=\"769.5\" y=\"-141.8\" font-family=\"Times New Roman,serif\" font-size=\"14.00\">samples = 1115</text>\r\n",
       "<text text-anchor=\"middle\" x=\"769.5\" y=\"-126.8\" font-family=\"Times New Roman,serif\" font-size=\"14.00\">value = [239, 876]</text>\r\n",
       "<text text-anchor=\"middle\" x=\"769.5\" y=\"-111.8\" font-family=\"Times New Roman,serif\" font-size=\"14.00\">class = Lesionados</text>\r\n",
       "</g>\r\n",
       "<!-- 8&#45;&gt;9 -->\r\n",
       "<g id=\"edge9\" class=\"edge\"><title>8&#45;&gt;9</title>\r\n",
       "<path fill=\"none\" stroke=\"black\" d=\"M769.5,-222.907C769.5,-214.649 769.5,-205.864 769.5,-197.302\"/>\r\n",
       "<polygon fill=\"black\" stroke=\"black\" points=\"773,-197.021 769.5,-187.021 766,-197.021 773,-197.021\"/>\r\n",
       "</g>\r\n",
       "<!-- 12 -->\r\n",
       "<g id=\"node13\" class=\"node\"><title>12</title>\r\n",
       "<polygon fill=\"#8dc7f0\" stroke=\"black\" points=\"1047,-187 922,-187 922,-104 1047,-104 1047,-187\"/>\r\n",
       "<text text-anchor=\"middle\" x=\"984.5\" y=\"-171.8\" font-family=\"Times New Roman,serif\" font-size=\"14.00\">autopista &lt;= 16.0</text>\r\n",
       "<text text-anchor=\"middle\" x=\"984.5\" y=\"-156.8\" font-family=\"Times New Roman,serif\" font-size=\"14.00\">gini = 0.419</text>\r\n",
       "<text text-anchor=\"middle\" x=\"984.5\" y=\"-141.8\" font-family=\"Times New Roman,serif\" font-size=\"14.00\">samples = 770</text>\r\n",
       "<text text-anchor=\"middle\" x=\"984.5\" y=\"-126.8\" font-family=\"Times New Roman,serif\" font-size=\"14.00\">value = [230, 540]</text>\r\n",
       "<text text-anchor=\"middle\" x=\"984.5\" y=\"-111.8\" font-family=\"Times New Roman,serif\" font-size=\"14.00\">class = Lesionados</text>\r\n",
       "</g>\r\n",
       "<!-- 8&#45;&gt;12 -->\r\n",
       "<g id=\"edge12\" class=\"edge\"><title>8&#45;&gt;12</title>\r\n",
       "<path fill=\"none\" stroke=\"black\" d=\"M832.265,-229.344C857.433,-215.648 886.583,-199.785 912.598,-185.628\"/>\r\n",
       "<polygon fill=\"black\" stroke=\"black\" points=\"914.546,-188.552 921.657,-180.698 911.2,-182.404 914.546,-188.552\"/>\r\n",
       "</g>\r\n",
       "<!-- 10 -->\r\n",
       "<g id=\"node11\" class=\"node\"><title>10</title>\r\n",
       "<polygon fill=\"#5eafea\" stroke=\"black\" points=\"761,-68 636,-68 636,-0 761,-0 761,-68\"/>\r\n",
       "<text text-anchor=\"middle\" x=\"698.5\" y=\"-52.8\" font-family=\"Times New Roman,serif\" font-size=\"14.00\">gini = 0.264</text>\r\n",
       "<text text-anchor=\"middle\" x=\"698.5\" y=\"-37.8\" font-family=\"Times New Roman,serif\" font-size=\"14.00\">samples = 268</text>\r\n",
       "<text text-anchor=\"middle\" x=\"698.5\" y=\"-22.8\" font-family=\"Times New Roman,serif\" font-size=\"14.00\">value = [42, 226]</text>\r\n",
       "<text text-anchor=\"middle\" x=\"698.5\" y=\"-7.8\" font-family=\"Times New Roman,serif\" font-size=\"14.00\">class = Lesionados</text>\r\n",
       "</g>\r\n",
       "<!-- 9&#45;&gt;10 -->\r\n",
       "<g id=\"edge10\" class=\"edge\"><title>9&#45;&gt;10</title>\r\n",
       "<path fill=\"none\" stroke=\"black\" d=\"M743.062,-103.726C737.385,-94.9703 731.376,-85.7032 725.671,-76.9051\"/>\r\n",
       "<polygon fill=\"black\" stroke=\"black\" points=\"728.469,-74.786 720.092,-68.2996 722.595,-78.5943 728.469,-74.786\"/>\r\n",
       "</g>\r\n",
       "<!-- 11 -->\r\n",
       "<g id=\"node12\" class=\"node\"><title>11</title>\r\n",
       "<polygon fill=\"#75bbed\" stroke=\"black\" points=\"904,-68 779,-68 779,-0 904,-0 904,-68\"/>\r\n",
       "<text text-anchor=\"middle\" x=\"841.5\" y=\"-52.8\" font-family=\"Times New Roman,serif\" font-size=\"14.00\">gini = 0.357</text>\r\n",
       "<text text-anchor=\"middle\" x=\"841.5\" y=\"-37.8\" font-family=\"Times New Roman,serif\" font-size=\"14.00\">samples = 847</text>\r\n",
       "<text text-anchor=\"middle\" x=\"841.5\" y=\"-22.8\" font-family=\"Times New Roman,serif\" font-size=\"14.00\">value = [197, 650]</text>\r\n",
       "<text text-anchor=\"middle\" x=\"841.5\" y=\"-7.8\" font-family=\"Times New Roman,serif\" font-size=\"14.00\">class = Lesionados</text>\r\n",
       "</g>\r\n",
       "<!-- 9&#45;&gt;11 -->\r\n",
       "<g id=\"edge11\" class=\"edge\"><title>9&#45;&gt;11</title>\r\n",
       "<path fill=\"none\" stroke=\"black\" d=\"M796.31,-103.726C802.068,-94.9703 808.161,-85.7032 813.946,-76.9051\"/>\r\n",
       "<polygon fill=\"black\" stroke=\"black\" points=\"817.035,-78.5781 819.604,-68.2996 811.186,-74.7322 817.035,-78.5781\"/>\r\n",
       "</g>\r\n",
       "<!-- 13 -->\r\n",
       "<g id=\"node14\" class=\"node\"><title>13</title>\r\n",
       "<polygon fill=\"#8bc6f0\" stroke=\"black\" points=\"1047,-68 922,-68 922,-0 1047,-0 1047,-68\"/>\r\n",
       "<text text-anchor=\"middle\" x=\"984.5\" y=\"-52.8\" font-family=\"Times New Roman,serif\" font-size=\"14.00\">gini = 0.415</text>\r\n",
       "<text text-anchor=\"middle\" x=\"984.5\" y=\"-37.8\" font-family=\"Times New Roman,serif\" font-size=\"14.00\">samples = 755</text>\r\n",
       "<text text-anchor=\"middle\" x=\"984.5\" y=\"-22.8\" font-family=\"Times New Roman,serif\" font-size=\"14.00\">value = [222, 533]</text>\r\n",
       "<text text-anchor=\"middle\" x=\"984.5\" y=\"-7.8\" font-family=\"Times New Roman,serif\" font-size=\"14.00\">class = Lesionados</text>\r\n",
       "</g>\r\n",
       "<!-- 12&#45;&gt;13 -->\r\n",
       "<g id=\"edge13\" class=\"edge\"><title>12&#45;&gt;13</title>\r\n",
       "<path fill=\"none\" stroke=\"black\" d=\"M984.5,-103.726C984.5,-95.5175 984.5,-86.8595 984.5,-78.56\"/>\r\n",
       "<polygon fill=\"black\" stroke=\"black\" points=\"988,-78.2996 984.5,-68.2996 981,-78.2996 988,-78.2996\"/>\r\n",
       "</g>\r\n",
       "<!-- 14 -->\r\n",
       "<g id=\"node15\" class=\"node\"><title>14</title>\r\n",
       "<polygon fill=\"#fcefe6\" stroke=\"black\" points=\"1206,-68 1065,-68 1065,-0 1206,-0 1206,-68\"/>\r\n",
       "<text text-anchor=\"middle\" x=\"1135.5\" y=\"-52.8\" font-family=\"Times New Roman,serif\" font-size=\"14.00\">gini = 0.498</text>\r\n",
       "<text text-anchor=\"middle\" x=\"1135.5\" y=\"-37.8\" font-family=\"Times New Roman,serif\" font-size=\"14.00\">samples = 15</text>\r\n",
       "<text text-anchor=\"middle\" x=\"1135.5\" y=\"-22.8\" font-family=\"Times New Roman,serif\" font-size=\"14.00\">value = [8, 7]</text>\r\n",
       "<text text-anchor=\"middle\" x=\"1135.5\" y=\"-7.8\" font-family=\"Times New Roman,serif\" font-size=\"14.00\">class = Sin lesionados</text>\r\n",
       "</g>\r\n",
       "<!-- 12&#45;&gt;14 -->\r\n",
       "<g id=\"edge14\" class=\"edge\"><title>12&#45;&gt;14</title>\r\n",
       "<path fill=\"none\" stroke=\"black\" d=\"M1040.73,-103.726C1054.06,-94.0582 1068.25,-83.767 1081.48,-74.172\"/>\r\n",
       "<polygon fill=\"black\" stroke=\"black\" points=\"1083.54,-77.0036 1089.58,-68.2996 1079.43,-71.3368 1083.54,-77.0036\"/>\r\n",
       "</g>\r\n",
       "</g>\r\n",
       "</svg>\r\n"
      ],
      "text/plain": [
       "<graphviz.files.Source at 0x1cf4c132748>"
      ]
     },
     "metadata": {},
     "output_type": "display_data"
    }
   ],
   "source": [
    "import graphviz\n",
    "from sklearn.tree import export_graphviz\n",
    "\n",
    "feature_names = ['hora', 'autopista', 'condiciones_meteorologicas', 'superficie_de_la_via', 'tipo_de_siniestro', 'moto', 'liviano', 'bus', 'camion']\n",
    "\n",
    "export_graphviz(\n",
    "        tree_clf,\n",
    "        out_file=\"lesionados.dot\",\n",
    "        feature_names=feature_names,\n",
    "        class_names=[\"Sin lesionados\",\"Lesionados\"],\n",
    "        filled=True\n",
    "    )\n",
    "\n",
    "with open(\"lesionados.dot\") as f:\n",
    "    dot_graph = f.read()\n",
    "\n",
    "# remove the display(...)\n",
    "\n",
    "display(graphviz.Source(dot_graph))"
   ]
  },
  {
   "cell_type": "code",
   "execution_count": 25,
   "metadata": {},
   "outputs": [],
   "source": [
    "pred_target_lesionados = tree_clf.predict(test_data)"
   ]
  },
  {
   "cell_type": "code",
   "execution_count": 26,
   "metadata": {},
   "outputs": [
    {
     "data": {
      "text/plain": [
       "array([[621, 111],\n",
       "       [212, 359]], dtype=int64)"
      ]
     },
     "execution_count": 26,
     "metadata": {},
     "output_type": "execute_result"
    }
   ],
   "source": [
    "import numpy as np\n",
    "from sklearn.metrics import confusion_matrix\n",
    "\n",
    "species = np.array(test_target_lesionados)\n",
    "predictions = np.array(pred_target_lesionados)\n",
    "confusion_matrix(species, predictions)"
   ]
  },
  {
   "cell_type": "code",
   "execution_count": 27,
   "metadata": {},
   "outputs": [],
   "source": [
    "# Efectividad del 75% aproximadamente sobre 1511 casos de prueba. Cambiando el tamaño del arbol, el resultado sigue siendo similar."
   ]
  },
  {
   "cell_type": "code",
   "execution_count": 28,
   "metadata": {},
   "outputs": [],
   "source": [
    "from sklearn.ensemble import RandomForestClassifier, AdaBoostClassifier"
   ]
  },
  {
   "cell_type": "code",
   "execution_count": 29,
   "metadata": {},
   "outputs": [
    {
     "data": {
      "text/plain": [
       "AdaBoostClassifier(algorithm='SAMME.R', base_estimator=None, learning_rate=1.0,\n",
       "                   n_estimators=1000, random_state=0)"
      ]
     },
     "execution_count": 29,
     "metadata": {},
     "output_type": "execute_result"
    }
   ],
   "source": [
    "ab_clf = AdaBoostClassifier(n_estimators=1000, random_state=0)\n",
    "ab_clf.fit(data, target_lesionados)"
   ]
  },
  {
   "cell_type": "code",
   "execution_count": 30,
   "metadata": {
    "scrolled": true
   },
   "outputs": [
    {
     "data": {
      "text/plain": [
       "array([[619, 113],\n",
       "       [200, 371]], dtype=int64)"
      ]
     },
     "execution_count": 30,
     "metadata": {},
     "output_type": "execute_result"
    }
   ],
   "source": [
    "pred_target_lesionados = ab_clf.predict(test_data)\n",
    "\n",
    "species = np.array(test_target_lesionados)\n",
    "predictions = np.array(pred_target_lesionados)\n",
    "confusion_matrix(species, predictions)"
   ]
  },
  {
   "cell_type": "code",
   "execution_count": 31,
   "metadata": {},
   "outputs": [],
   "source": [
    "# AdaBoost - rendimiento similar"
   ]
  },
  {
   "cell_type": "code",
   "execution_count": 32,
   "metadata": {},
   "outputs": [
    {
     "data": {
      "text/plain": [
       "RandomForestClassifier(bootstrap=True, ccp_alpha=0.0, class_weight=None,\n",
       "                       criterion='gini', max_depth=None, max_features='auto',\n",
       "                       max_leaf_nodes=None, max_samples=None,\n",
       "                       min_impurity_decrease=0.0, min_impurity_split=None,\n",
       "                       min_samples_leaf=1, min_samples_split=2,\n",
       "                       min_weight_fraction_leaf=0.0, n_estimators=10,\n",
       "                       n_jobs=None, oob_score=False, random_state=0, verbose=0,\n",
       "                       warm_start=False)"
      ]
     },
     "execution_count": 32,
     "metadata": {},
     "output_type": "execute_result"
    }
   ],
   "source": [
    "rf_clf = RandomForestClassifier(n_estimators=10, random_state=0)\n",
    "rf_clf.fit(data, target_lesionados)"
   ]
  },
  {
   "cell_type": "code",
   "execution_count": 33,
   "metadata": {
    "scrolled": true
   },
   "outputs": [
    {
     "data": {
      "text/plain": [
       "array([[666,  66],\n",
       "       [112, 459]], dtype=int64)"
      ]
     },
     "execution_count": 33,
     "metadata": {},
     "output_type": "execute_result"
    }
   ],
   "source": [
    "pred_target_lesionados = rf_clf.predict(test_data)\n",
    "\n",
    "species = np.array(test_target_lesionados)\n",
    "predictions = np.array(pred_target_lesionados)\n",
    "confusion_matrix(species, predictions)"
   ]
  },
  {
   "cell_type": "code",
   "execution_count": 34,
   "metadata": {},
   "outputs": [],
   "source": [
    "# RandomTree peor que Adaboost"
   ]
  },
  {
   "cell_type": "code",
   "execution_count": 35,
   "metadata": {},
   "outputs": [
    {
     "data": {
      "text/plain": [
       "GaussianNB(priors=None, var_smoothing=1e-09)"
      ]
     },
     "execution_count": 35,
     "metadata": {},
     "output_type": "execute_result"
    }
   ],
   "source": [
    "from sklearn.naive_bayes import GaussianNB\n",
    "nb_clf = GaussianNB()\n",
    "nb_clf.fit(data, target_lesionados)"
   ]
  },
  {
   "cell_type": "code",
   "execution_count": 36,
   "metadata": {},
   "outputs": [
    {
     "data": {
      "text/plain": [
       "array([[603, 129],\n",
       "       [211, 360]], dtype=int64)"
      ]
     },
     "execution_count": 36,
     "metadata": {},
     "output_type": "execute_result"
    }
   ],
   "source": [
    "pred_target_lesionados = nb_clf.predict(test_data)\n",
    "\n",
    "species = np.array(test_target_lesionados)\n",
    "predictions = np.array(pred_target_lesionados)\n",
    "confusion_matrix(species, predictions)"
   ]
  },
  {
   "cell_type": "code",
   "execution_count": 37,
   "metadata": {},
   "outputs": [],
   "source": [
    "# Naive Bayes performance 77%"
   ]
  },
  {
   "cell_type": "code",
   "execution_count": 38,
   "metadata": {},
   "outputs": [
    {
     "data": {
      "text/plain": [
       "SVC(C=0.025, break_ties=False, cache_size=200, class_weight=None, coef0=0.0,\n",
       "    decision_function_shape='ovr', degree=3, gamma='scale', kernel='linear',\n",
       "    max_iter=-1, probability=True, random_state=None, shrinking=True, tol=0.001,\n",
       "    verbose=False)"
      ]
     },
     "execution_count": 38,
     "metadata": {},
     "output_type": "execute_result"
    }
   ],
   "source": [
    "from sklearn.svm import SVC\n",
    "\n",
    "#    SVC(kernel=\"linear\", C=0.025),\n",
    "#    SVC(gamma=2, C=1),\n",
    "\n",
    "SVC_clf = SVC(kernel=\"linear\", C=0.025, probability=True)\n",
    "SVC_clf.fit(data, target_lesionados)"
   ]
  },
  {
   "cell_type": "code",
   "execution_count": 39,
   "metadata": {
    "scrolled": true
   },
   "outputs": [
    {
     "data": {
      "text/plain": [
       "array([[617, 115],\n",
       "       [212, 359]], dtype=int64)"
      ]
     },
     "execution_count": 39,
     "metadata": {},
     "output_type": "execute_result"
    }
   ],
   "source": [
    "pred_target_lesionados = SVC_clf.predict(test_data)\n",
    "\n",
    "species = np.array(test_target_lesionados)\n",
    "predictions = np.array(pred_target_lesionados)\n",
    "confusion_matrix(species, predictions)"
   ]
  },
  {
   "cell_type": "code",
   "execution_count": 40,
   "metadata": {
    "scrolled": true
   },
   "outputs": [
    {
     "data": {
      "text/plain": [
       "KNeighborsClassifier(algorithm='auto', leaf_size=30, metric='minkowski',\n",
       "                     metric_params=None, n_jobs=None, n_neighbors=3, p=2,\n",
       "                     weights='uniform')"
      ]
     },
     "execution_count": 40,
     "metadata": {},
     "output_type": "execute_result"
    }
   ],
   "source": [
    "from sklearn.neighbors import KNeighborsClassifier\n",
    "\n",
    "KN_clf = KNeighborsClassifier(3)\n",
    "KN_clf.fit(data, target_lesionados)"
   ]
  },
  {
   "cell_type": "code",
   "execution_count": 41,
   "metadata": {},
   "outputs": [
    {
     "data": {
      "text/plain": [
       "array([[623, 109],\n",
       "       [148, 423]], dtype=int64)"
      ]
     },
     "execution_count": 41,
     "metadata": {},
     "output_type": "execute_result"
    }
   ],
   "source": [
    "pred_target_lesionados = KN_clf.predict(test_data)\n",
    "\n",
    "species = np.array(test_target_lesionados)\n",
    "predictions = np.array(pred_target_lesionados)\n",
    "confusion_matrix(species, predictions)"
   ]
  },
  {
   "cell_type": "code",
   "execution_count": 42,
   "metadata": {},
   "outputs": [],
   "source": [
    "from sklearn.ensemble import VotingClassifier"
   ]
  },
  {
   "cell_type": "code",
   "execution_count": 43,
   "metadata": {},
   "outputs": [],
   "source": [
    "est_NB = GaussianNB()\n",
    "score_NB = est_NB.fit(data, target_lesionados).score(test_data,test_target_lesionados)"
   ]
  },
  {
   "cell_type": "code",
   "execution_count": 44,
   "metadata": {},
   "outputs": [],
   "source": [
    "est_DT = DecisionTreeClassifier()\n",
    "score_DT = est_DT.fit(data, target_lesionados).score(test_data,test_target_lesionados)"
   ]
  },
  {
   "cell_type": "code",
   "execution_count": 45,
   "metadata": {},
   "outputs": [],
   "source": [
    "est_RF = RandomForestClassifier(random_state=1, n_estimators=10)\n",
    "score_RF = est_RF.fit(data, target_lesionados).score(test_data,test_target_lesionados)"
   ]
  },
  {
   "cell_type": "code",
   "execution_count": 46,
   "metadata": {},
   "outputs": [],
   "source": [
    "est_SVC = SVC(gamma=2, C=1, probability=True)\n",
    "score_SVC = est_SVC.fit(data, target_lesionados).score(test_data,test_target_lesionados)"
   ]
  },
  {
   "cell_type": "code",
   "execution_count": 47,
   "metadata": {},
   "outputs": [],
   "source": [
    "est_KN = KNeighborsClassifier(3)\n",
    "score_KN = est_KN.fit(data, target_lesionados).score(test_data,test_target_lesionados)"
   ]
  },
  {
   "cell_type": "code",
   "execution_count": 48,
   "metadata": {},
   "outputs": [],
   "source": [
    "est_Ensemble = VotingClassifier(estimators=[('RF', est_RF), ('SVC', est_SVC)],\n",
    "                        voting='soft')\n",
    "\n",
    "score_Ensemble = est_Ensemble.fit(data, target_lesionados).score(test_data,test_target_lesionados)"
   ]
  },
  {
   "cell_type": "code",
   "execution_count": 49,
   "metadata": {
    "scrolled": true
   },
   "outputs": [
    {
     "name": "stdout",
     "output_type": "stream",
     "text": [
      "Ensemble score: 0.8726016884113584\n"
     ]
    }
   ],
   "source": [
    "print(\"Ensemble score: {}\".format(score_Ensemble)) "
   ]
  },
  {
   "cell_type": "code",
   "execution_count": 50,
   "metadata": {},
   "outputs": [
    {
     "name": "stdout",
     "output_type": "stream",
     "text": [
      "Naive Bayes score: 0.7390636991557943\n",
      "Decision Tree score: 0.8687643898695319\n",
      "Random Forest score: 0.8633921719109747\n",
      "SVC score: 0.8710667689946278\n",
      "K-Neighbours score: 0.8027628549501151\n"
     ]
    }
   ],
   "source": [
    "print(\"Naive Bayes score: {}\".format(score_NB))\n",
    "print(\"Decision Tree score: {}\".format(score_DT))\n",
    "print(\"Random Forest score: {}\".format(score_RF))\n",
    "print(\"SVC score: {}\".format(score_SVC))\n",
    "print(\"K-Neighbours score: {}\".format(score_KN))"
   ]
  },
  {
   "cell_type": "code",
   "execution_count": 64,
   "metadata": {},
   "outputs": [
    {
     "data": {
      "image/png": "[encoded data removed]",
      "text/plain": [
       "<Figure size 432x288 with 2 Axes>"
      ]
     },
     "metadata": {
      "needs_background": "light"
     },
     "output_type": "display_data"
    }
   ],
   "source": [
    "import scikitplot as skplt\n",
    "import matplotlib.pyplot as plt\n",
    "\n",
    "pred_target_lesionados = est_Ensemble.predict(test_data)\n",
    "\n",
    "species = np.array(test_target_lesionados)\n",
    "predictions = np.array(pred_target_lesionados)\n",
    "\n",
    "skplt.metrics.plot_confusion_matrix(species, predictions, normalize=True)\n",
    "plt.show()"
   ]
  },
  {
   "cell_type": "code",
   "execution_count": 69,
   "metadata": {},
   "outputs": [
    {
     "data": {
      "image/png": "[encoded data removed]",
      "text/plain": [
       "<Figure size 432x288 with 1 Axes>"
      ]
     },
     "metadata": {
      "needs_background": "light"
     },
     "output_type": "display_data"
    }
   ],
   "source": [
    "probas = est_Ensemble.predict_proba(test_data)\n",
    "\n",
    "skplt.metrics.plot_precision_recall(test_target_lesionados, probas)\n",
    "\n",
    "plt.show()"
   ]
  },
  {
   "cell_type": "code",
   "execution_count": 71,
   "metadata": {},
   "outputs": [
    {
     "data": {
      "text/plain": [
       "0.8726016884113584"
      ]
     },
     "execution_count": 71,
     "metadata": {},
     "output_type": "execute_result"
    }
   ],
   "source": [
    "from sklearn.metrics import recall_score\n",
    "\n",
    "recall_score(test_target_lesionados, pred_target_lesionados, average='weighted')"
   ]
  },
  {
   "attachments": {
    "image.png": {
     "image/png": "[encoded data removed]"
    }
   },
   "cell_type": "markdown",
   "metadata": {},
   "source": [
    "![image.png](attachment:image.png)"
   ]
  },
  {
   "cell_type": "code",
   "execution_count": null,
   "metadata": {},
   "outputs": [],
   "source": []
  }
 ],
 "metadata": {
  "kernelspec": {
   "display_name": "Python 3",
   "language": "python",
   "name": "python3"
  },
  "language_info": {
   "codemirror_mode": {
    "name": "ipython",
    "version": 3
   },
   "file_extension": ".py",
   "mimetype": "text/x-python",
   "name": "python",
   "nbconvert_exporter": "python",
   "pygments_lexer": "ipython3",
   "version": "3.7.6"
  }
 },
 "nbformat": 4,
 "nbformat_minor": 4
}
